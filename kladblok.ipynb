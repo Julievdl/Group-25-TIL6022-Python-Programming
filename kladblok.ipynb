{
 "cells": [
  {
   "cell_type": "code",
   "execution_count": 3,
   "id": "c386b912",
   "metadata": {},
   "outputs": [],
   "source": [
    "import pandas as pd\n",
    "df_tomtom = pd.read_parquet(r'C:\\Users\\gerri\\Downloads\\20250820163000_stream.tomtom.analyze-sail.parquet', engine='fastparquet')\n",
    "\n",
    "df_vessels = pd.read_parquet(r'C:\\Users\\gerri\\Downloads\\20250820163000_stream.vessel-positions-anonymized-processed.analyze-sail.parquet', engine='fastparquet')\n",
    "\n"
   ]
  }
 ],
 "metadata": {
  "kernelspec": {
   "display_name": "Python 3",
   "language": "python",
   "name": "python3"
  },
  "language_info": {
   "codemirror_mode": {
    "name": "ipython",
    "version": 3
   },
   "file_extension": ".py",
   "mimetype": "text/x-python",
   "name": "python",
   "nbconvert_exporter": "python",
   "pygments_lexer": "ipython3",
   "version": "3.11.9"
  }
 },
 "nbformat": 4,
 "nbformat_minor": 5
}
