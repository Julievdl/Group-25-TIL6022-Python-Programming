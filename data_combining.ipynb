{
 "cells": [
  {
   "cell_type": "code",
   "execution_count": null,
   "id": "133bc69e",
   "metadata": {},
   "outputs": [
    {
     "name": "stdout",
     "output_type": "stream",
     "text": [
      "Collecting fastparquet\n",
      "  Downloading fastparquet-2024.11.0-cp311-cp311-win_amd64.whl.metadata (4.3 kB)\n",
      "Requirement already satisfied: pandas>=1.5.0 in c:\\users\\gerri\\appdata\\local\\packages\\pythonsoftwarefoundation.python.3.11_qbz5n2kfra8p0\\localcache\\local-packages\\python311\\site-packages (from fastparquet) (2.3.2)\n",
      "Requirement already satisfied: numpy in c:\\users\\gerri\\appdata\\local\\packages\\pythonsoftwarefoundation.python.3.11_qbz5n2kfra8p0\\localcache\\local-packages\\python311\\site-packages (from fastparquet) (2.3.3)\n",
      "Collecting cramjam>=2.3 (from fastparquet)\n",
      "  Downloading cramjam-2.11.0-cp311-cp311-win_amd64.whl.metadata (681 bytes)\n",
      "Collecting fsspec (from fastparquet)\n",
      "  Downloading fsspec-2025.9.0-py3-none-any.whl.metadata (10 kB)\n",
      "Requirement already satisfied: packaging in c:\\users\\gerri\\appdata\\local\\packages\\pythonsoftwarefoundation.python.3.11_qbz5n2kfra8p0\\localcache\\local-packages\\python311\\site-packages (from fastparquet) (25.0)\n",
      "Requirement already satisfied: python-dateutil>=2.8.2 in c:\\users\\gerri\\appdata\\local\\packages\\pythonsoftwarefoundation.python.3.11_qbz5n2kfra8p0\\localcache\\local-packages\\python311\\site-packages (from pandas>=1.5.0->fastparquet) (2.9.0.post0)\n",
      "Requirement already satisfied: pytz>=2020.1 in c:\\users\\gerri\\appdata\\local\\packages\\pythonsoftwarefoundation.python.3.11_qbz5n2kfra8p0\\localcache\\local-packages\\python311\\site-packages (from pandas>=1.5.0->fastparquet) (2025.2)\n",
      "Requirement already satisfied: tzdata>=2022.7 in c:\\users\\gerri\\appdata\\local\\packages\\pythonsoftwarefoundation.python.3.11_qbz5n2kfra8p0\\localcache\\local-packages\\python311\\site-packages (from pandas>=1.5.0->fastparquet) (2025.2)\n",
      "Requirement already satisfied: six>=1.5 in c:\\users\\gerri\\appdata\\local\\packages\\pythonsoftwarefoundation.python.3.11_qbz5n2kfra8p0\\localcache\\local-packages\\python311\\site-packages (from python-dateutil>=2.8.2->pandas>=1.5.0->fastparquet) (1.17.0)\n",
      "Downloading fastparquet-2024.11.0-cp311-cp311-win_amd64.whl (671 kB)\n",
      "   ---------------------------------------- 0.0/671.0 kB ? eta -:--:--\n",
      "   - ------------------------------------- 30.7/671.0 kB 660.6 kB/s eta 0:00:01\n",
      "   -------------- ------------------------- 235.5/671.0 kB 2.9 MB/s eta 0:00:01\n",
      "   ------------------------------------- -- 634.9/671.0 kB 5.0 MB/s eta 0:00:01\n",
      "   ---------------------------------------- 671.0/671.0 kB 4.2 MB/s eta 0:00:00\n",
      "Downloading cramjam-2.11.0-cp311-cp311-win_amd64.whl (1.7 MB)\n",
      "   ---------------------------------------- 0.0/1.7 MB ? eta -:--:--\n",
      "   ---------------- ----------------------- 0.7/1.7 MB 14.4 MB/s eta 0:00:01\n",
      "   ---------------------------------- ----- 1.5/1.7 MB 15.9 MB/s eta 0:00:01\n",
      "   ---------------------------------------- 1.7/1.7 MB 15.6 MB/s eta 0:00:00\n",
      "Downloading fsspec-2025.9.0-py3-none-any.whl (199 kB)\n",
      "   ---------------------------------------- 0.0/199.3 kB ? eta -:--:--\n",
      "   --------------------------------------- 199.3/199.3 kB 12.6 MB/s eta 0:00:00\n",
      "Installing collected packages: fsspec, cramjam, fastparquet\n",
      "Successfully installed cramjam-2.11.0 fastparquet-2024.11.0 fsspec-2025.9.0\n",
      "Note: you may need to restart the kernel to use updated packages.\n"
     ]
    },
    {
     "name": "stderr",
     "output_type": "stream",
     "text": [
      "\n",
      "[notice] A new release of pip is available: 24.0 -> 25.2\n",
      "[notice] To update, run: C:\\Users\\gerri\\AppData\\Local\\Microsoft\\WindowsApps\\PythonSoftwareFoundation.Python.3.11_qbz5n2kfra8p0\\python.exe -m pip install --upgrade pip\n"
     ]
    }
   ],
   "source": [
    "import os\n",
    "import pandas as pd\n",
    "data = os.path.join(\"Data\", \"SAIL2025_LVMA_data_3min_20August-25August2025_flow.csv\") \n",
    "sensor_loc = os.path.join(\"Data\", \"sensor-location.csv\") \n",
    "df_data = pd.read_csv(data)\n",
    "df_sensors = pd.read_csv(sensor_loc, sep =  \";\")\n",
    "\n",
    "base_names = set()\n",
    "for col in df_data.columns:\n",
    "    if \"_\" in col:\n",
    "        base = \"_\".join(col.split(\"_\")[:-1])\n",
    "        base_names.add(base)\n",
    "\n",
    "time_cols = [\"timestamp\", \"hour\", \"minute\", \"day\", \"month\", \"weekday\", \"is_weekend\"]\n",
    "time_cols = [c for c in time_cols if c in df_data.columns]  # only keep existing ones\n",
    "df_combined = df_data[time_cols].copy()\n",
    "\n",
    "for base in base_names:\n",
    "    related_cols = [c for c in df_data.columns if c.startswith(base + \"_\")]\n",
    "    if len(related_cols) >1: \n",
    "        df_combined[base] = df_data[related_cols].sum(axis=1)\n",
    "\n",
    "df_combined[\"CMSA-GAKH-01\"]\n",
    "\n"
   ]
  }
 ],
 "metadata": {
  "kernelspec": {
   "display_name": "Python 3",
   "language": "python",
   "name": "python3"
  },
  "language_info": {
   "codemirror_mode": {
    "name": "ipython",
    "version": 3
   },
   "file_extension": ".py",
   "mimetype": "text/x-python",
   "name": "python",
   "nbconvert_exporter": "python",
   "pygments_lexer": "ipython3",
   "version": "3.11.9"
  }
 },
 "nbformat": 4,
 "nbformat_minor": 5
}
