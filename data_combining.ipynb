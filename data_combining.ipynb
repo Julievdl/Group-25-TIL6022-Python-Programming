{
 "cells": [
  {
   "cell_type": "code",
   "execution_count": 4,
   "id": "133bc69e",
   "metadata": {},
   "outputs": [
    {
     "data": {
      "text/plain": [
       "0       19\n",
       "1        4\n",
       "2        9\n",
       "3        8\n",
       "4       15\n",
       "        ..\n",
       "2395    20\n",
       "2396     3\n",
       "2397    12\n",
       "2398     4\n",
       "2399     7\n",
       "Name: CMSA-GAKH-01, Length: 2400, dtype: int64"
      ]
     },
     "execution_count": 4,
     "metadata": {},
     "output_type": "execute_result"
    }
   ],
   "source": [
    "import os\n",
    "import pandas as pd\n",
    "data = os.path.join(\"Data\", \"SAIL2025_LVMA_data_3min_20August-25August2025_flow.csv\") \n",
    "sensor_loc = os.path.join(\"Data\", \"sensor-location.csv\") \n",
    "df_data = pd.read_csv(data)\n",
    "df_sensors = pd.read_csv(sensor_loc, sep =  \";\")\n",
    "\n",
    "base_names = set()\n",
    "for col in df_data.columns:\n",
    "    if \"_\" in col:\n",
    "        base = \"_\".join(col.split(\"_\")[:-1])\n",
    "        base_names.add(base)\n",
    "\n",
    "time_cols = [\"timestamp\", \"hour\", \"minute\", \"day\", \"month\", \"weekday\", \"is_weekend\"]\n",
    "time_cols = [c for c in time_cols if c in df_data.columns]  # only keep existing ones\n",
    "df_combined = df_data[time_cols].copy()\n",
    "\n",
    "for base in base_names:\n",
    "    related_cols = [c for c in df_data.columns if c.startswith(base + \"_\")]\n",
    "    if len(related_cols) >1: \n",
    "        df_combined[base] = df_data[related_cols].sum(axis=1)\n",
    "\n",
    "df_combined[\"CMSA-GAKH-01\"]\n",
    "\n"
   ]
  }
 ],
 "metadata": {
  "kernelspec": {
   "display_name": "Python 3",
   "language": "python",
   "name": "python3"
  },
  "language_info": {
   "codemirror_mode": {
    "name": "ipython",
    "version": 3
   },
   "file_extension": ".py",
   "mimetype": "text/x-python",
   "name": "python",
   "nbconvert_exporter": "python",
   "pygments_lexer": "ipython3",
   "version": "3.11.9"
  }
 },
 "nbformat": 4,
 "nbformat_minor": 5
}
