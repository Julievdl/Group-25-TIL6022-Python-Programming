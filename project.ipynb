{
 "cells": [
  {
   "cell_type": "markdown",
   "metadata": {},
   "source": [
    "# Project Group - 25\n",
    "\n",
    "Members: \n",
    "- Thijmen van der Geer\n",
    "- Merle de Jong\n",
    "- Julie van der Linde\n",
    "- Max Beishuizen\n",
    "- Wouter Gerritsen"
   ]
  },
  {
   "cell_type": "markdown",
   "metadata": {},
   "source": [
    "# Introduction\n",
    "With the continuous growth of the population and increasing density of inhabitants in cities, the monitoring of crowd behaviour is increasingly important. In particular during large scale events such as SAIL, where people from across the Netherlands and even other countries come to one place. This can cause hazards in the form of crowd stampedes and cause difficulty in evacuation in case of danger. Therefore, it is essential to monitor and guide crowds in real-time to prevent these dangerous situations from occurring. To do this, crowd managers and decision-makers often make use of a crowd monitoring dashboard. The purpose of this dashboard is to visualise the crowds and provide key insights in the current situation, as well as prediction about events in the near future that may have an influence. The purpose of this project is to create such a dashboard based on the data gathered during the SAIL 2025 event."
   ]
  },
  {
   "cell_type": "markdown",
   "metadata": {},
   "source": [
    "# Research Objective\n",
    "\n",
    "- Develop an interactive dashboard for crowd monitoring at SAIL 2025  \n",
    "- Consolidate multiple real-time data streams (crowd density, mobility, traffic, etc.) into a single platform.  \n",
    "- Improve situational awareness and decision-making efficiency for crowd managers.  \n",
    "- Provide visual alerts and predictive insights"
   ]
  },
  {
   "cell_type": "markdown",
   "metadata": {},
   "source": [
    "# Research questions\n",
    "**Main question:**\n",
    "\t“How can a real-time crowd monitoring dashboard be designed and implemented to improve situational awareness and support decision making for crowd managers at SAIL?”\n",
    "\n",
    "**Subquestions:**\n",
    "\n",
    "1. What are the most important crowd-related indicators for crowd managers during SAIL 2025?  \n",
    "2. How can different data sources (historical, event specific, mobility, geospatial)  be integrated to unify to one single monitoring dashboard?  \n",
    "3. How can real-time (and historical?) data be leveraged to anticipate crowding issues before they can escalate by forecasting potential bottlenecks?  \n",
    "4. In what way can the UI and UX of the monitoring dashboard be designed to maximize clear and usable real-time decision-making?"
   ]
  },
  {
   "cell_type": "markdown",
   "metadata": {},
   "source": [
    "# Contribution Statement\n",
    "\n",
    "*Be specific. Some of the tasks can be coding (expect everyone to do this), background research, conceptualisation, visualisation, data analysis, data modelling*"
   ]
  },
  {
   "cell_type": "markdown",
   "metadata": {},
   "source": [
    "**Author 1**:\n",
    "\n",
    "**Author 2**:\n",
    "\n",
    "**Author 3**:"
   ]
  },
  {
   "cell_type": "markdown",
   "metadata": {},
   "source": [
    "# Data Used"
   ]
  },
  {
   "cell_type": "markdown",
   "metadata": {},
   "source": []
  },
  {
   "cell_type": "markdown",
   "metadata": {},
   "source": [
    "# Intended Data Pipeline"
   ]
  },
  {
   "cell_type": "markdown",
   "metadata": {},
   "source": [
    "- Maps of the IJHaven, road traffic, walking routes, entry/exit points, visitor counts  \n",
    "- Crowd density mapping, heatmaps, flow trajectories  \n",
    "- Alerts for crowd density threshold exceedances"
   ]
  },
  {
   "cell_type": "markdown",
   "metadata": {},
   "source": [
    "# Geographical and Temporal Scale\n",
    "\n",
    "The data that will be used was collected during the SAIL event in August of 2025\\. The event had a duration of 5 days, from August 20th to August 24th. The temporal scale therefore encompasses these five days. The geographical scale of this project includes the event area, which is the IJHaven in Amsterdam and the surrounding neighbourhoods of the IJ river (city center connections). "
   ]
  },
  {
   "cell_type": "markdown",
   "metadata": {},
   "source": [
    "# References\n",
    "https://www.amsterdam.nl/nieuws/nieuwsoverzicht/sail-2025-50-jaar-magie-water/ \n",
    "\n",
    "https://www.avineon-tensing.com/nl-nl/ons-werk/case-study-digital-twin-crowdmanagement-sail \n"
   ]
  }
 ],
 "metadata": {
  "kernelspec": {
   "display_name": "Python 3",
   "language": "python",
   "name": "python3"
  },
  "language_info": {
   "name": "python",
   "version": "3.8.2"
  },
  "orig_nbformat": 4,
  "vscode": {
   "interpreter": {
    "hash": "31f2aee4e71d21fbe5cf8b01ff0e069b9275f58929596ceb00d14d90e3e16cd6"
   }
  }
 },
 "nbformat": 4,
 "nbformat_minor": 2
}
